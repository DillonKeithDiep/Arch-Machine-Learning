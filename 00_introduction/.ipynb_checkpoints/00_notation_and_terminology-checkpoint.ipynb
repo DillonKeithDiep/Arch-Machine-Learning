{
 "cells": [
  {
   "cell_type": "markdown",
   "metadata": {},
   "source": [
    "### Notation\n",
    "\n",
    "| Identifier | : | ........................................Notation |\n",
    "| --- | --- | --- |\n",
    "| Column Vector | | $\\mathbf{x}$ |\n",
    "| Row Vector | | $\\mathbf{x}^T$ |\n",
    "| Matrix | | $\\mathbf{M}$ |\n",
    "| Matrix (Row Vector) | | $\\mathbf{w}=(w_1,...,w_M)$ |\n",
    "| Matrix (Column Vector) | | $\\mathbf{w}=(w_1,...,w_M)^T$ |\n",
    "| Identity Matrix | | $\\mathbf{I}$ |\n",
    "| Identity Matrix $M \\times M$ | | $\\mathbf{I}_M$ |\n",
    "| Closed interval | | $[a,b]$ |\n",
    "| Open interval | | $(a,b)$ |\n",
    "| Open interval | | $(a,b)$ |\n",
    "| Functional | | $f[y]$ |\n",
    "| Function | | $y(x)$ |\n",
    "| Bounded | | $g(x)=O(f(x))$\n",
    "| Expectation | | $E_x[f(x,y)]$ |\n",
    "| Variance | | $var[f(x)]$ |\n",
    "| Covariance | | $cov[\\mathbf{x},\\mathbf{y}]$ |\n"
   ]
  },
  {
   "cell_type": "markdown",
   "metadata": {
    "collapsed": true
   },
   "source": [
    "### Terminology\n",
    "- Training Set $\\mathbf{X} = \\{\\mathbf{x}_1,...,\\mathbf{x}_N\\}$ : data used to tune the parameters of an adaptive model\n",
    "- Target Vector $\\mathbf{t}$ : expresses the category of an observable data entity\n",
    "- Training Phase : determining the output function $\\mathbf{y}(\\mathbf{x})$ of the machine learning algorithm (also known as *learning phase*)\n",
    "- Test Set : data to be operated upon by the trained model\n",
    "- Generalisation : ability of adaptive model extrapolating for newly observed data\n",
    "- Preprocessing: transforming raw data into a space of more useful new variables to improve the training process\n",
    "- Feature Extraction : preprocessing to identify useful features of the observed data structure\n",
    "- Exploration and Exploitation Trade-off: Choosing to look for new effective actions or choosing to optimise greedily\n",
    "\n",
    "\n",
    "### Categories of Machine Learning Algorithms\n",
    "- Supervised Learning: training data comprises examples of the input vectors along with the corresponding target vectors (expected output of training data is known)\n",
    "- Unsupervised Learning: training data does not consist of corresponding target values (expected output is not known)\n",
    "- Reinforcement Learning: An agent interacts with the environment to discover what maximises reward\n",
    "\n",
    "### Categories of Machine Learning Problems\n",
    "- Classification: assigning each input vector to one of a finite discrete categories\n",
    "- Regression: predicting output of one or more continuous variables\n",
    "- Clustering: group similar observed data\n",
    "- Density Estimation: determining the distribution of data within the input space\n",
    "- Dimensionality Reduction: projecting data from a high-dimensional space to a low-dimensional one\n",
    "- Visualisation: performing dimensionality reduction for the purposes of viewing\n",
    "\n",
    "Such categories are not mutually exclusive\n"
   ]
  },
  {
   "cell_type": "code",
   "execution_count": null,
   "metadata": {
    "collapsed": true
   },
   "outputs": [],
   "source": []
  },
  {
   "cell_type": "code",
   "execution_count": null,
   "metadata": {
    "collapsed": true
   },
   "outputs": [],
   "source": []
  }
 ],
 "metadata": {
  "kernelspec": {
   "display_name": "Python 3",
   "language": "python",
   "name": "python3"
  },
  "language_info": {
   "codemirror_mode": {
    "name": "ipython",
    "version": 3
   },
   "file_extension": ".py",
   "mimetype": "text/x-python",
   "name": "python",
   "nbconvert_exporter": "python",
   "pygments_lexer": "ipython3",
   "version": "3.6.3"
  }
 },
 "nbformat": 4,
 "nbformat_minor": 2
}
