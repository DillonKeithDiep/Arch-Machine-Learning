{
 "cells": [
  {
   "cell_type": "markdown",
   "metadata": {},
   "source": [
    "###### Bishop 2006, pp.xi-xii.\n",
    "\n",
    "| Identifier | : | ........................................Notation |\n",
    "| --- | --- | --- |\n",
    "| Column Vector | | $\\mathbf{x}$ |\n",
    "| Row Vector | | $\\mathbf{x}^T$ |\n",
    "| Matrix | | $\\mathbf{M}$ |\n",
    "| Matrix (Row Vector) | | $\\mathbf{w}=(w_1,...,w_M)$ |\n",
    "| Matrix (Column Vector) | | $\\mathbf{w}=(w_1,...,w_M)^T$ |\n",
    "| Identity Matrix | | $\\mathbf{I}$ |\n",
    "| Identity Matrix $M \\times M$ | | $\\mathbf{I}_M$ |\n",
    "| Closed interval | | $[a,b]$ |\n",
    "| Open interval | | $(a,b)$ |\n",
    "| Open interval | | $(a,b)$ |\n",
    "| Functional | | $f[y]$ |\n",
    "| Function | | $y(x)$ |\n",
    "| Bounded | | $g(x)=O(f(x))$\n",
    "| Expectation | | $E_x[f(x,y)]$ |\n",
    "| Variance | | $var[f(x)]$ |\n",
    "| Covariance | | $cov[\\mathbf{x},\\mathbf{y}]$ |\n"
   ]
  },
  {
   "cell_type": "code",
   "execution_count": null,
   "metadata": {
    "collapsed": true
   },
   "outputs": [],
   "source": []
  },
  {
   "cell_type": "code",
   "execution_count": null,
   "metadata": {
    "collapsed": true
   },
   "outputs": [],
   "source": []
  },
  {
   "cell_type": "code",
   "execution_count": null,
   "metadata": {
    "collapsed": true
   },
   "outputs": [],
   "source": []
  }
 ],
 "metadata": {
  "kernelspec": {
   "display_name": "Python 3",
   "language": "python",
   "name": "python3"
  },
  "language_info": {
   "codemirror_mode": {
    "name": "ipython",
    "version": 3
   },
   "file_extension": ".py",
   "mimetype": "text/x-python",
   "name": "python",
   "nbconvert_exporter": "python",
   "pygments_lexer": "ipython3",
   "version": "3.6.3"
  }
 },
 "nbformat": 4,
 "nbformat_minor": 2
}
