{
 "cells": [
  {
   "cell_type": "markdown",
   "metadata": {},
   "source": [
    "# Introduction to Neural Networks\n",
    "- Classic linear regression models the outcome as the sum of individual properties\n",
    "- Neural networks are based on the physiology of the brain and captures how properties interact to produce an outcome\n",
    "- The classic neural network is an ANN (Artificial Neural Network)\n",
    "\n",
    "#### Links\n",
    "- https://www.datacamp.com/courses/deep-learning-in-python"
   ]
  },
  {
   "cell_type": "markdown",
   "metadata": {},
   "source": [
    "### Forward Propogation\n",
    "- A neural network has an input layer, hidden layer, and an output layer\n",
    "- Values of the input layer are propogated to the hidden layer\n",
    "- Each propogation is weighted (dot product), then combined together (multiplied) to make the value of the hidden node\n",
    "\n"
   ]
  },
  {
   "cell_type": "code",
   "execution_count": 7,
   "metadata": {},
   "outputs": [
    {
     "name": "stdout",
     "output_type": "stream",
     "text": [
      "9\n"
     ]
    }
   ],
   "source": [
    "import numpy as np\n",
    "\n",
    "input_data = np.array([2, 3])\n",
    "weights = {\"node_0\": np.array([1, 1]),\n",
    "           \"node_1\": np.array([-1, 1]),\n",
    "           \"output\": np.array([2, -1])}\n",
    "\n",
    "# Calculate node value\n",
    "node_0_value = (input_data * weights['node_0']).sum()\n",
    "node_1_value = (input_data * weights['node_1']).sum()\n",
    "\n",
    "# Put node values into array: hidden_layer_outputs\n",
    "hidden_layer_outputs = np.array([node_0_value, node_1_value])\n",
    "\n",
    "# Calculate output: output\n",
    "output = (hidden_layer_outputs * weights['output']).sum()\n",
    "\n",
    "print(output)"
   ]
  },
  {
   "cell_type": "markdown",
   "metadata": {
    "collapsed": true
   },
   "source": [
    "### Activation Functions\n",
    "An activation function allows the model to capture nonlinear functions. It is applied to node inputs to produce node output.\n",
    "For example, a hidden node would take in some value (5), then apply its activation function (tanh) to produce its output (tanh(5)).\n",
    "### ReLU (Rectified Linear Activation)\n",
    "RELU(X) => { x < 0 ? 0 : x }\n",
    "\n",
    "Return 0 if less than 0, else return x itself"
   ]
  },
  {
   "cell_type": "code",
   "execution_count": 8,
   "metadata": {},
   "outputs": [
    {
     "name": "stdout",
     "output_type": "stream",
     "text": [
      "1.23822425257\n"
     ]
    }
   ],
   "source": [
    "# Introduce new step to apply activation functions\n",
    "node_0_output = np.tanh(node_0_value)\n",
    "node_1_output = np.tanh(node_1_value)\n",
    "\n",
    "hidden_layer_outputs = np.array([node_0_output, node_1_output])\n",
    "output = (hidden_layer_outputs * weights['output']).sum()\n",
    "print(output)"
   ]
  },
  {
   "cell_type": "code",
   "execution_count": null,
   "metadata": {
    "collapsed": true
   },
   "outputs": [],
   "source": []
  }
 ],
 "metadata": {
  "kernelspec": {
   "display_name": "Python 3",
   "language": "python",
   "name": "python3"
  },
  "language_info": {
   "codemirror_mode": {
    "name": "ipython",
    "version": 3
   },
   "file_extension": ".py",
   "mimetype": "text/x-python",
   "name": "python",
   "nbconvert_exporter": "python",
   "pygments_lexer": "ipython3",
   "version": "3.6.1"
  }
 },
 "nbformat": 4,
 "nbformat_minor": 2
}
