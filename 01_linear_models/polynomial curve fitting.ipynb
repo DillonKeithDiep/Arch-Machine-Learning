{
 "cells": [
  {
   "cell_type": "markdown",
   "metadata": {
    "collapsed": true
   },
   "source": [
    "###### Bishop 2006, p.2.\n",
    "### Terminology\n",
    "- Training Set $\\mathbf{X} = \\{\\mathbf{x}_1,...,\\mathbf{x}_N\\}$ : data used to tune the parameters of an adaptive model\n",
    "- Target Vector $\\mathbf{t}$ : expresses the category of an observable data entity\n",
    "- Training Phase : determining the output function $\\mathbf{y}(\\mathbf{x}) of the machine learning algorithm (also known as *learning phase*)\n",
    "- Test Set : data to be operated upon by the trained model\n",
    "- Generalisation : ability of adaptive model extrapolating for newly observed data\n",
    "- Preprocessing: transforming raw data into a space of more useful new variables to improve the training process\n",
    "- Feature Extraction : preprocessing to identify useful features of the observed data structure\n",
    "- Exploration and Exploitation Trade-off: Choosing to look for new effective actions or choosing to optimise greedily\n",
    "\n",
    "\n",
    "### Categories of Machine Learning Algorithms\n",
    "- Supervised Learning: training data comprises examples of the input vectors along with the corresponding target vectors (expected output of training data is known)\n",
    "- Unsupervised Learning: training data does not consist of corresponding target values (expected output is not known)\n",
    "- Reinforcement Learning: An agent interacts with the environment to discover what maximises reward\n",
    "\n",
    "### Categories of Machine Learning Problems\n",
    "- Classification: assigning each input vector to one of a finite discrete categories\n",
    "- Regression: predicting output of one or more continuous variables\n",
    "- Clustering: group similar observed data\n",
    "- Density Estimation: determining the distribution of data within the input space\n",
    "- Dimensionality Reduction: projecting data from a high-dimensional space to a low-dimensional one\n",
    "- Visualisation: performing dimensionality reduction for the purposes of viewing\n",
    "\n",
    "Such categories are not mutually exclusive\n"
   ]
  },
  {
   "cell_type": "markdown",
   "metadata": {
    "collapsed": true
   },
   "source": [
    "### Polynomial Curve Fitting\n",
    "- Suppose observation $x \\in \\Re$.\n",
    "- Predict the value of target $t \\in \\Re$.\n",
    "- Let data be modelled by function $sin(2 \\pi x)$ with random noise.\n",
    "- Given training set $\\mathbf{x} \\equiv (x_1,...,x_N)^T$, predict target set $\\mathbf{t} \\equiv (t_1,...,t_N)^T$\n",
    "- Our goal is to exploit the training set to predict the value $\\hat{t}$ of the target variable for some new value $\\hat{x}$ of the input variable\n"
   ]
  },
  {
   "cell_type": "code",
   "execution_count": 46,
   "metadata": {},
   "outputs": [
    {
     "data": {
      "text/plain": [
       "<matplotlib.collections.PathCollection at 0x286d54f2780>"
      ]
     },
     "execution_count": 46,
     "metadata": {},
     "output_type": "execute_result"
    },
    {
     "data": {
      "image/png": "[encoded data removed]",
      "text/plain": [
       "<matplotlib.figure.Figure at 0x286d4295630>"
      ]
     },
     "metadata": {},
     "output_type": "display_data"
    }
   ],
   "source": [
    "%matplotlib inline\n",
    "import math\n",
    "import matplotlib.pyplot as plt\n",
    "\n",
    "def frange(start, stop, step):\n",
    "    i = start\n",
    "    while i < stop:\n",
    "        yield i\n",
    "        i += step\n",
    "\n",
    "f = lambda x: math.sin(2*math.pi*x)\n",
    "xData = [x for x in frange(0.0, 1.0, 0.01)]\n",
    "yData = [f(x) for x in xData]\n",
    "xObs = [x for x in frange(0.0, 1.0, 0.1)]\n",
    "yObs = [0.0, 0.506, 0.999, 0.927, 0.409, 0.132, -0.657, -0.869, -0.957, -0.488, -0.051]\n",
    "plt.figure()\n",
    "plt.plot(xData, yData)\n",
    "plt.scatter(xObs, yObs)"
   ]
  },
  {
   "cell_type": "markdown",
   "metadata": {
    "collapsed": true
   },
   "source": [
    "A simple approach for curve fitting is to fit the data using a polynomial function of the form:\n",
    "$$y(x,\\mathbf{x}) = w_0 + w_1 x + w_2 x + ... + w_M x^M = \\sum^M_{j=0}w_j x^j$$\n",
    "- M is the *order* of the polynomial, and $x_j$ denotes the $x$ raised to the power of $j$.\n",
    "- $w_0,...,w_M$ is denoted by vector $\\mathbf{w}$.\n",
    "- Polynomial function $y(x,\\mathbf{w})$ is a nonlinear function of $x$, but a linear function of the coefficients $\\mathbf{w}$.\n",
    "- The values of the coefficients can be determined by fitting the polynomial to the training data through minimising the *error function*\n",
    "- The error function measures the misfit between the function $y(x, \\mathbf{w})$ for any given value of $\\mathbf{w}$ with the training set data points. \n",
    "- A common error function is the sum of the squares of the errors between the predictions $y(x_n, \\mathbf{w})$ for each data point $x_n$ and the corresponding target values $t_n$:\n",
    "$$E(\\mathbf{w} = \\frac{1}{2}\\sum{N}{n=1}\\{ y(x_n, \\mathbf{w}) - t_n \\}^2$$\n",
    "- The curve fitting problem is solved by choosing the value $\\mathbf{w}$ where $E(\\mathbf{w})$ is as minimised.\n",
    "- As the error function is a quadratic function of the coefficients $\\mathbf{w}$, its derivatives with respect to the coefficients will be linear in the elements of $\\mathbf{w}$, and so the minimisation of the error function has a unique solution, denoted $\\mathbf{w}^*$.\n",
    "- The resulting polynomial is given by the function $y(x, \\mathbf{w}^*)$."
   ]
  },
  {
   "cell_type": "code",
   "execution_count": null,
   "metadata": {
    "collapsed": true
   },
   "outputs": [],
   "source": []
  },
  {
   "cell_type": "code",
   "execution_count": null,
   "metadata": {
    "collapsed": true
   },
   "outputs": [],
   "source": []
  }
 ],
 "metadata": {
  "kernelspec": {
   "display_name": "Python 3",
   "language": "python",
   "name": "python3"
  },
  "language_info": {
   "codemirror_mode": {
    "name": "ipython",
    "version": 3
   },
   "file_extension": ".py",
   "mimetype": "text/x-python",
   "name": "python",
   "nbconvert_exporter": "python",
   "pygments_lexer": "ipython3",
   "version": "3.6.3"
  }
 },
 "nbformat": 4,
 "nbformat_minor": 2
}
